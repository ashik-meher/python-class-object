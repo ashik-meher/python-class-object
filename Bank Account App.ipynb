{
 "cells": [
  {
   "cell_type": "code",
   "execution_count": 4,
   "metadata": {},
   "outputs": [
    {
     "name": "stdout",
     "output_type": "stream",
     "text": [
      "Amount to Deposite: 9\n",
      "Amount to Withdrawl: 876\n",
      "Account name:  Ashik Meher Mobin\n",
      "Account number:  15672942\n",
      "Current balance:  4133.0\n"
     ]
    }
   ],
   "source": [
    "class bankAccount(object):\n",
    "    \n",
    "    def __init__(self,name=\"\",accNumber=0,balance=0):\n",
    "        self.name = name\n",
    "        self.accNumber = accNumber\n",
    "        self.balance = balance\n",
    "        \n",
    "    def deposite(self):\n",
    "        depositeAmount = float(input(\"Amount to Deposite: \"))\n",
    "        self.balance = self.balance + depositeAmount\n",
    "        return (self.balance)\n",
    "    \n",
    "    def withDraw(self):\n",
    "        withDrawAmount = float(input(\"Amount to Withdrawl: \"))\n",
    "        self.balance = self.balance - withDrawAmount\n",
    "        return(self.balance)\n",
    "        \n",
    "    def inquiry(self):\n",
    "        print(\"Account name: \",self.name)\n",
    "        print(\"Account number: \", self.accNumber)\n",
    "        print(\"Current balance: \",self.balance)\n",
    "        \n",
    "ashikMeherMobin = bankAccount('Ashik Meher Mobin', 15672942,5000)   \n",
    "ashikMeherMobin.deposite()\n",
    "ashikMeherMobin.withDraw()\n",
    "ashikMeherMobin.inquiry()\n"
   ]
  },
  {
   "cell_type": "code",
   "execution_count": null,
   "metadata": {},
   "outputs": [],
   "source": []
  },
  {
   "cell_type": "code",
   "execution_count": null,
   "metadata": {},
   "outputs": [],
   "source": []
  }
 ],
 "metadata": {
  "kernelspec": {
   "display_name": "Python 3",
   "language": "python",
   "name": "python3"
  },
  "language_info": {
   "codemirror_mode": {
    "name": "ipython",
    "version": 3
   },
   "file_extension": ".py",
   "mimetype": "text/x-python",
   "name": "python",
   "nbconvert_exporter": "python",
   "pygments_lexer": "ipython3",
   "version": "3.7.6"
  }
 },
 "nbformat": 4,
 "nbformat_minor": 4
}
